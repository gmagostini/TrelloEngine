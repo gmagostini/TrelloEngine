{
 "metadata": {
  "language_info": {
   "codemirror_mode": {
    "name": "ipython",
    "version": 3
   },
   "file_extension": ".py",
   "mimetype": "text/x-python",
   "name": "python",
   "nbconvert_exporter": "python",
   "pygments_lexer": "ipython3",
   "version": "3.8.5"
  },
  "orig_nbformat": 2,
  "kernelspec": {
   "name": "python385jvsc74a57bd0c27704c5320a3c8d1c115124d48a7f290b37dfd48f24cfb20184db681f071451",
   "language": "python",
   "display_name": "Python 3.8.5 64-bit ('base': conda)"
  },
  "metadata": {
   "interpreter": {
    "hash": "c27704c5320a3c8d1c115124d48a7f290b37dfd48f24cfb20184db681f071451"
   }
  }
 },
 "nbformat": 4,
 "nbformat_minor": 2,
 "cells": [
  {
   "cell_type": "code",
   "execution_count": 5,
   "metadata": {},
   "outputs": [],
   "source": [
    "from trellocore import TrelloCore\n",
    "import os\n",
    "import json\n",
    "\n",
    "trellocore = None\n",
    "with open(os.path.join(os.path.abspath(''),\"ENV\",\".env\"),\"r\") as file:\n",
    "    key =json.load(file)\n",
    "    trellocore = TrelloCore(app_key=key[\"api_key\"], token=key[\"admin_token\"])\n"
   ]
  },
  {
   "cell_type": "code",
   "execution_count": 6,
   "metadata": {},
   "outputs": [
    {
     "name": "stdout",
     "output_type": "stream",
     "text": [
      "[{'id': '5ee8c73b5fc8a0081dea8d11', 'name': 'Andrea'}, {'id': '6009703d968abd13ebdfbc27', 'name': 'Antje'}, {'id': '6007eb661419e5662e28d18d', 'name': 'Clarice'}, {'id': '5ee8c71a3aea4f250bffe6b2', 'name': 'Claudio'}, {'id': '5fdf45fd573e6a4950396ea1', 'name': 'FALEGNAMERIA'}, {'id': '5ee86a31b4dd441463ba65d6', 'name': 'Luca'}, {'id': '5f116945ac22ae6cd2d07294', 'name': 'Luca Valentini'}, {'id': '5ee8c7329f86d41a917505f5', 'name': 'Manuel'}, {'id': '5ee869db1e066a18aec6ba98', 'name': 'Marco'}, {'id': '5f11913437db9819e7f923c8', 'name': 'Nicola Miori'}, {'id': '5fdf45f03920b84a4c0eb520', 'name': 'UFFICIO'}, {'id': '5ee8c726d3314a3af9a9290f', 'name': 'Valentina'}, {'id': '5f02e306e2d1536d1c293e42', 'name': 'Vincenzo'}, {'id': '5f119143119bf0893fbf74d0', 'name': 'Virgil'}]\n",
      "5fdf45f03920b84a4c0eb520\n"
     ]
    }
   ],
   "source": [
    "member_id = trellocore.token().get_member()['id']\n",
    "boards = trellocore.member().get_boards(id=member_id, fields=\"id,name\")\n",
    "print(boards)\n",
    "ufficio = [board['id'] for board in boards if \"UFFICIO\" == board['name']][0]\n",
    "print(ufficio)"
   ]
  },
  {
   "cell_type": "code",
   "execution_count": 7,
   "metadata": {
    "tags": []
   },
   "outputs": [
    {
     "name": "stdout",
     "output_type": "stream",
     "text": [
      "['6008770254c19e8489d9f896']\n"
     ]
    }
   ],
   "source": [
    "board = trellocore.board(id=ufficio)\n",
    "#print(board_id)\n",
    "liste = board.get_lists(fields=\"id,name\", filter='open')\n",
    "#[print(elemento) for elemento in liste]\n",
    "bacheche_personali = [name['id'] for name in liste if \"bacheche personali\" == name['name'] ]\n",
    "print(bacheche_personali)"
   ]
  },
  {
   "cell_type": "code",
   "execution_count": 8,
   "metadata": {},
   "outputs": [
    {
     "name": "stdout",
     "output_type": "stream",
     "text": [
      "[{'username': 'andreagarbellotti', 'board_name': 'Andrea'}, {'username': 'antje416', 'board_name': 'Antje'}, {'username': 'claricecloutier', 'board_name': 'Clarice'}, {'username': 'zaninelli', 'board_name': 'Luca'}, {'username': 'manueltolotti', 'board_name': 'Manuel'}, {'username': 'marcozaninelli', 'board_name': 'Marco'}, {'username': 'valentinatasin', 'board_name': 'Valentina'}, {'username': 'vincenzolunelli', 'board_name': 'Vincenzo'}]\n"
     ]
    }
   ],
   "source": [
    "cards = trellocore.list(id=bacheche_personali[0]).get_cards()\n",
    "cards = [elemento['name'].split(':') for elemento in cards][1:]\n",
    "bacheche_personali = [{'username': elemento[0],'board_name': elemento[1] } for elemento in cards]\n",
    "print(bacheche_personali)"
   ]
  },
  {
   "cell_type": "code",
   "execution_count": 9,
   "metadata": {},
   "outputs": [],
   "source": [
    "\n",
    "for elemento in bacheche_personali: \n",
    "    elemento['id'] = (trellocore.member(id=elemento['username']).get_member(fields=\"id\")['id'])\n",
    "\n",
    "\n"
   ]
  },
  {
   "cell_type": "code",
   "execution_count": 10,
   "metadata": {},
   "outputs": [
    {
     "name": "stdout",
     "output_type": "stream",
     "text": [
      "{'username': 'andreagarbellotti', 'board_name': 'Andrea', 'id': '5ed9de3a44fb3e880f78e84d', 'type': 0, 'token': None}\n",
      "{'username': 'antje416', 'board_name': 'Antje', 'id': '5ed80cbe514b035cfc99838a', 'type': 0, 'token': None}\n",
      "{'username': 'claricecloutier', 'board_name': 'Clarice', 'id': '5c004b9ebb81ab0403618dc1', 'type': 0, 'token': None}\n",
      "{'username': 'zaninelli', 'board_name': 'Luca', 'id': '5eda6809df259163876f4896', 'type': 1, 'token': '79f8f30cb4eb3e4d1fb4a689316365dd17a0fac5142d4ba7434389ce33cc13fb'}\n",
      "{'username': 'manueltolotti', 'board_name': 'Manuel', 'id': '5edbcc7b78d55673cd5bda17', 'type': 0, 'token': None}\n",
      "{'username': 'marcozaninelli', 'board_name': 'Marco', 'id': '5ed8067e73403d50623f87fd', 'type': 0, 'token': None}\n",
      "{'username': 'valentinatasin', 'board_name': 'Valentina', 'id': '5ed8f7cfaaaef0624bcb4200', 'type': 0, 'token': None}\n",
      "{'username': 'vincenzolunelli', 'board_name': 'Vincenzo', 'id': '5efed0b3bdfd1b6b709ff513', 'type': 0, 'token': None}\n"
     ]
    }
   ],
   "source": [
    "for elemento in bacheche_personali:\n",
    "    if elemento['username'] == 'zaninelli':\n",
    "      elemento['type'] = 1\n",
    "      elemento['token'] = key[\"admin_token\"]\n",
    "    else:\n",
    "        elemento['type'] = 0\n",
    "        elemento['token'] = None\n",
    "    print(elemento)"
   ]
  },
  {
   "cell_type": "code",
   "execution_count": 11,
   "metadata": {},
   "outputs": [],
   "source": [
    "for elemento in bacheche_personali:\n",
    "    for board in boards:\n",
    "        if board['name'] == elemento['board_name']:\n",
    "            elemento['board_id'] =  board['id']\n",
    "            #print(elemento)\n"
   ]
  },
  {
   "cell_type": "code",
   "execution_count": 12,
   "metadata": {},
   "outputs": [
    {
     "name": "stdout",
     "output_type": "stream",
     "text": [
      "dict_keys(['username', 'board_name', 'id', 'type', 'token', 'board_id', 'list_id'])\n"
     ]
    }
   ],
   "source": [
    "for elemento in bacheche_personali:\n",
    "    board = trellocore.board(id=elemento['board_id'])\n",
    "    liste = board.get_lists(fields=\"id,name\", filter='open')\n",
    "\n",
    "    elemento['list_id'] = [name['id'] for name in liste if \"MANAGMEENT\" == name['name'] ]\n",
    "\n",
    "print(bacheche_personali[0].keys())"
   ]
  },
  {
   "cell_type": "code",
   "execution_count": 13,
   "metadata": {},
   "outputs": [],
   "source": [
    "import sqlite3\n",
    "import os\n",
    "db_file = os.path.join(os.path.abspath(''),\"ENV\", \"database.sqlite3\")\n",
    "conn = sqlite3.connect(db_file)\n",
    "cur = conn.cursor()"
   ]
  },
  {
   "cell_type": "code",
   "execution_count": 14,
   "metadata": {},
   "outputs": [
    {
     "data": {
      "text/plain": "<sqlite3.Cursor at 0x7f4790a21f10>"
     },
     "execution_count": 14,
     "metadata": {},
     "output_type": "execute_result"
    }
   ],
   "source": [
    "query = \"\"\"DROP TABLE Employee;\"\"\"\n",
    "cur.execute(query)"
   ]
  },
  {
   "cell_type": "code",
   "execution_count": 15,
   "metadata": {},
   "outputs": [
    {
     "data": {
      "text/plain": "<sqlite3.Cursor at 0x7f4790a21f10>"
     },
     "execution_count": 15,
     "metadata": {},
     "output_type": "execute_result"
    }
   ],
   "source": [
    "query = \"\"\"\n",
    "\t\tCREATE TABLE IF NOT EXISTS Employee (\n",
    "\t\t\tid CHAR(24),\n",
    "\t\t\tusername CHAR(50),\n",
    "\t\t\tboard_id CHAR(24),\n",
    "            board_name CHAR(50),\n",
    "\t\t\tlist_id CHAR(24),\n",
    "\t\t\ttoken CHAR(50),\n",
    "            type INT,\n",
    "\t\t\tPRIMARY KEY (id)\n",
    "\t\t);\n",
    "        \"\"\"\n",
    "cur.execute(query)"
   ]
  },
  {
   "cell_type": "code",
   "execution_count": 16,
   "metadata": {},
   "outputs": [
    {
     "name": "stdout",
     "output_type": "stream",
     "text": [
      "{'username': 'andreagarbellotti', 'board_name': 'Andrea', 'id': '5ed9de3a44fb3e880f78e84d', 'type': 0, 'token': None, 'board_id': '5ee8c73b5fc8a0081dea8d11', 'list_id': ['602bb2415db587685a99298b']}\n",
      "{'username': 'antje416', 'board_name': 'Antje', 'id': '5ed80cbe514b035cfc99838a', 'type': 0, 'token': None, 'board_id': '6009703d968abd13ebdfbc27', 'list_id': ['602bb24175564f7418415c26']}\n",
      "{'username': 'claricecloutier', 'board_name': 'Clarice', 'id': '5c004b9ebb81ab0403618dc1', 'type': 0, 'token': None, 'board_id': '6007eb661419e5662e28d18d', 'list_id': ['602bb2424c48d5706dda9799']}\n",
      "{'username': 'zaninelli', 'board_name': 'Luca', 'id': '5eda6809df259163876f4896', 'type': 1, 'token': '79f8f30cb4eb3e4d1fb4a689316365dd17a0fac5142d4ba7434389ce33cc13fb', 'board_id': '5ee86a31b4dd441463ba65d6', 'list_id': ['602bb244575c6775f9a91283']}\n",
      "{'username': 'manueltolotti', 'board_name': 'Manuel', 'id': '5edbcc7b78d55673cd5bda17', 'type': 0, 'token': None, 'board_id': '5ee8c7329f86d41a917505f5', 'list_id': ['602bb243a088753e0b0ccd26']}\n",
      "{'username': 'marcozaninelli', 'board_name': 'Marco', 'id': '5ed8067e73403d50623f87fd', 'type': 0, 'token': None, 'board_id': '5ee869db1e066a18aec6ba98', 'list_id': ['6027b3453b34db1f68e548d5']}\n",
      "{'username': 'valentinatasin', 'board_name': 'Valentina', 'id': '5ed8f7cfaaaef0624bcb4200', 'type': 0, 'token': None, 'board_id': '5ee8c726d3314a3af9a9290f', 'list_id': ['602bb2439500870be27b560e']}\n",
      "{'username': 'vincenzolunelli', 'board_name': 'Vincenzo', 'id': '5efed0b3bdfd1b6b709ff513', 'type': 0, 'token': None, 'board_id': '5f02e306e2d1536d1c293e42', 'list_id': ['602bb244f40b3d3abd66a41c']}\n"
     ]
    }
   ],
   "source": [
    "for line in bacheche_personali:\n",
    "    print(line)"
   ]
  },
  {
   "cell_type": "code",
   "execution_count": 17,
   "metadata": {},
   "outputs": [],
   "source": [
    "for line in bacheche_personali:\n",
    "    sql = f\"\"\"\n",
    "    INSERT INTO Employee(id, username, board_id, board_name, list_id, token, type)\n",
    "    VALUES(?,?,?,?,?,?,?);\n",
    "    \"\"\"\n",
    "    value =(line['id'],line['username'],line['board_id'],line['board_name'],line['list_id'][0],line['token'],line['type'])\n",
    "    cur.execute(sql,value)"
   ]
  },
  {
   "cell_type": "code",
   "execution_count": 18,
   "metadata": {},
   "outputs": [
    {
     "name": "stdout",
     "output_type": "stream",
     "text": [
      "[('5ed9de3a44fb3e880f78e84d', 'andreagarbellotti', '5ee8c73b5fc8a0081dea8d11', 'Andrea', '602bb2415db587685a99298b', None, 0), ('5ed80cbe514b035cfc99838a', 'antje416', '6009703d968abd13ebdfbc27', 'Antje', '602bb24175564f7418415c26', None, 0), ('5c004b9ebb81ab0403618dc1', 'claricecloutier', '6007eb661419e5662e28d18d', 'Clarice', '602bb2424c48d5706dda9799', None, 0), ('5eda6809df259163876f4896', 'zaninelli', '5ee86a31b4dd441463ba65d6', 'Luca', '602bb244575c6775f9a91283', '79f8f30cb4eb3e4d1fb4a689316365dd17a0fac5142d4ba7434389ce33cc13fb', 1), ('5edbcc7b78d55673cd5bda17', 'manueltolotti', '5ee8c7329f86d41a917505f5', 'Manuel', '602bb243a088753e0b0ccd26', None, 0), ('5ed8067e73403d50623f87fd', 'marcozaninelli', '5ee869db1e066a18aec6ba98', 'Marco', '6027b3453b34db1f68e548d5', None, 0), ('5ed8f7cfaaaef0624bcb4200', 'valentinatasin', '5ee8c726d3314a3af9a9290f', 'Valentina', '602bb2439500870be27b560e', None, 0), ('5efed0b3bdfd1b6b709ff513', 'vincenzolunelli', '5f02e306e2d1536d1c293e42', 'Vincenzo', '602bb244f40b3d3abd66a41c', None, 0)]\n"
     ]
    }
   ],
   "source": [
    "select = \"SELECT * FROM Employee;\"\n",
    "\n",
    "cur.execute(select)\n",
    "print(cur.fetchall())"
   ]
  },
  {
   "cell_type": "code",
   "execution_count": 19,
   "outputs": [
    {
     "name": "stdout",
     "output_type": "stream",
     "text": [
      "5\n"
     ]
    }
   ],
   "source": [
    "var = 5\n",
    "print(var)"
   ],
   "metadata": {
    "collapsed": false,
    "pycharm": {
     "name": "#%%\n"
    }
   }
  }
 ]
}